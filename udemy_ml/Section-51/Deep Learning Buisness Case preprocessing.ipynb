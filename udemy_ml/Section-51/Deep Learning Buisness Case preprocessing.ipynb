{
 "cells": [
  {
   "cell_type": "markdown",
   "metadata": {},
   "source": [
    "# Import the lirary and load the data"
   ]
  },
  {
   "cell_type": "code",
   "execution_count": 11,
   "metadata": {},
   "outputs": [],
   "source": [
    "from sklearn import preprocessing\n",
    "import numpy as np"
   ]
  },
  {
   "cell_type": "code",
   "execution_count": 12,
   "metadata": {},
   "outputs": [],
   "source": [
    "raw_csv_data = np.loadtxt('/home/rshubham/STUDY/coding/udemy_ml/Section-51/S51_L353/Audiobooks_data.csv', delimiter = ',')\n",
    "unscaled_inputs_all = raw_csv_data[:,1:-1]\n",
    "targets_all = raw_csv_data[:,-1]"
   ]
  },
  {
   "cell_type": "markdown",
   "metadata": {},
   "source": [
    "# Balancing the dataset"
   ]
  },
  {
   "cell_type": "code",
   "execution_count": 13,
   "metadata": {},
   "outputs": [],
   "source": [
    "number_of_one_target = int(np.sum(targets_all))\n",
    "count = 0\n",
    "indices_to_remove = []\n",
    "\n",
    "for i in range(targets_all.shape[0]):\n",
    "    if targets_all[i] == 0:\n",
    "        count += 1\n",
    "        if count > number_of_one_target:\n",
    "            indices_to_remove.append(i)\n",
    "            \n",
    "unscaled_balanced_input = np.delete(unscaled_inputs_all, indices_to_remove, axis = 0)\n",
    "balanced_targets = np.delete(targets_all, indices_to_remove, axis = 0)"
   ]
  },
  {
   "cell_type": "code",
   "execution_count": 14,
   "metadata": {},
   "outputs": [
    {
     "name": "stdout",
     "output_type": "stream",
     "text": [
      "4474 14084\n"
     ]
    }
   ],
   "source": [
    "print(len(balanced_targets), len(targets_all))"
   ]
  },
  {
   "cell_type": "markdown",
   "metadata": {},
   "source": [
    "# Standardized the input"
   ]
  },
  {
   "cell_type": "code",
   "execution_count": 15,
   "metadata": {},
   "outputs": [],
   "source": [
    "scaled_inputs = preprocessing.scale(unscaled_balanced_input)"
   ]
  },
  {
   "cell_type": "markdown",
   "metadata": {},
   "source": [
    "# Shuffle the data"
   ]
  },
  {
   "cell_type": "code",
   "execution_count": 16,
   "metadata": {},
   "outputs": [],
   "source": [
    "shuffle_index = np.arange(scaled_inputs.shape[0])\n",
    "np.random.shuffle(shuffle_index)\n",
    "\n",
    "shuffled_inputs = scaled_inputs[shuffle_index]\n",
    "shuffled_targets = balanced_targets[shuffle_index]"
   ]
  },
  {
   "cell_type": "markdown",
   "metadata": {},
   "source": [
    "# Split the dataset in train, validation and test samples"
   ]
  },
  {
   "cell_type": "code",
   "execution_count": 17,
   "metadata": {},
   "outputs": [],
   "source": [
    "sample_count = shuffled_inputs.shape[0]\n",
    "train_count = int(0.8*sample_count)\n",
    "validation_count = int(0.1*sample_count)\n",
    "test_count = sample_count - train_count - validation_count\n",
    "\n",
    "train_inputs = shuffled_inputs[:train_count]\n",
    "train_output = shuffled_targets[:train_count]\n",
    "\n",
    "validation_inputs = shuffled_inputs[train_count: train_count + validation_count]\n",
    "validation_output = shuffled_targets[train_count: train_count + validation_count]\n",
    "\n",
    "test_inputs = shuffled_inputs[train_count + validation_count:]\n",
    "test_output = shuffled_targets[train_count + validation_count:]"
   ]
  },
  {
   "cell_type": "code",
   "execution_count": 18,
   "metadata": {},
   "outputs": [
    {
     "name": "stdout",
     "output_type": "stream",
     "text": [
      "0.4965074043028779\n",
      "0.4988814317673378\n",
      "0.5290178571428571\n"
     ]
    }
   ],
   "source": [
    "print(np.sum(train_output)/train_count)\n",
    "print(np.sum(validation_output)/validation_count)\n",
    "print(np.sum(test_output)/test_count)\n",
    "# The different datasets should be balanced for a better model."
   ]
  },
  {
   "cell_type": "markdown",
   "metadata": {},
   "source": [
    "# Save the three datasets in .npz format"
   ]
  },
  {
   "cell_type": "code",
   "execution_count": 19,
   "metadata": {},
   "outputs": [],
   "source": [
    "np.savez('Audiobook_train_data', inputs = train_inputs, targets = train_output)\n",
    "np.savez('Audiobook_validation_data', inputs = validation_inputs, targets = validation_output)\n",
    "np.savez('Audiobook_test_data', inputs = test_inputs, targets = test_output)"
   ]
  },
  {
   "cell_type": "code",
   "execution_count": null,
   "metadata": {},
   "outputs": [],
   "source": []
  },
  {
   "cell_type": "code",
   "execution_count": null,
   "metadata": {},
   "outputs": [],
   "source": []
  }
 ],
 "metadata": {
  "kernelspec": {
   "display_name": "Python 3",
   "language": "python",
   "name": "python3"
  },
  "language_info": {
   "codemirror_mode": {
    "name": "ipython",
    "version": 3
   },
   "file_extension": ".py",
   "mimetype": "text/x-python",
   "name": "python",
   "nbconvert_exporter": "python",
   "pygments_lexer": "ipython3",
   "version": "3.7.6"
  }
 },
 "nbformat": 4,
 "nbformat_minor": 4
}
